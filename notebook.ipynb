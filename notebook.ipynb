{
 "cells": [
  {
   "cell_type": "code",
   "execution_count": 1,
   "metadata": {},
   "outputs": [
    {
     "name": "stdout",
     "output_type": "stream",
     "text": [
      "{\"searchParameters\":{\"q\":\"apple inc\",\"type\":\"search\",\"engine\":\"google\"},\"knowledgeGraph\":{\"title\":\"Apple\",\"type\":\"Technology company\",\"website\":\"http://www.apple.com/\",\"imageUrl\":\"https://encrypted-tbn0.gstatic.com/images?q=tbn:ANd9GcT5ITHsQzdzkkFWKinRe1Y4FUbC_Vy3R_M&s=0\",\"attributes\":{\"Customer service\":\"1 (800) 275-2273\",\"Founders\":\"Steve Jobs, Steve Wozniak, and Ronald Wayne\",\"Founded\":\"April 1, 1976, Los Altos, CA\",\"CEO\":\"Tim Cook (Aug 24, 2011–)\",\"Headquarters\":\"Cupertino, CA\"}},\"organic\":[{\"title\":\"Apple\",\"link\":\"https://www.apple.com/\",\"snippet\":\"Discover the innovative world of Apple and shop everything iPhone, iPad, Apple Watch, Mac, and Apple TV, plus explore accessories, entertainment, ...\",\"sitelinks\":[{\"title\":\"Career Opportunities\",\"link\":\"https://www.apple.com/careers/us/\"},{\"title\":\"Support\",\"link\":\"https://support.apple.com/\"},{\"title\":\"Investor Relations\",\"link\":\"https://investor.apple.com/investor-relations/default.aspx\"},{\"title\":\"Store\",\"link\":\"https://www.apple.com/store\"},{\"title\":\"Apple Leadership\",\"link\":\"https://www.apple.com/leadership/\"}],\"position\":1},{\"title\":\"Apple Inc. - Wikipedia\",\"link\":\"https://en.wikipedia.org/wiki/Apple_Inc.\",\"snippet\":\"It is best known for its consumer electronics, software, and services. Founded in 1976 as Apple Computer Company by Steve Jobs, Steve Wozniak and Ronald Wayne, ...\",\"position\":2},{\"title\":\"Apple Inc. (AAPL) Company Profile & Facts - Yahoo Finance\",\"link\":\"https://finance.yahoo.com/quote/AAPL/profile/\",\"snippet\":\"(408) 996-1010 https://www.apple.com. Sector: Technology. Industry: Consumer Electronics. Full Time Employees: 150,000. Description. Apple Inc. designs ...\",\"position\":3},{\"title\":\"AAPL: Apple Inc Stock Price Quote - NASDAQ GS - Bloomberg\",\"link\":\"https://www.bloomberg.com/quote/AAPL:US\",\"snippet\":\"Stock analysis for Apple Inc (AAPL:NASDAQ GS) including stock price, stock chart, company news, key statistics, fundamentals and company profile.\",\"position\":4},{\"title\":\"Apple Inc. | History, Products, Headquarters, & Facts - Britannica\",\"link\":\"https://www.britannica.com/money/Apple-Inc\",\"snippet\":\"Apple Inc. is an American multinational technology company that revolutionized the technology sector through its innovation of computer software, ...\",\"position\":5},{\"title\":\"Apple Inc. (AAPL) Stock Price Today - WSJ\",\"link\":\"https://www.wsj.com/market-data/quotes/AAPL\",\"snippet\":\"Apple Inc. engages in the design, manufacture, and sale of smartphones, personal computers, tablets, wearables and accessories, and other varieties of related ...\",\"position\":6},{\"title\":\"Apple | AAPL Stock Price, Company Overview & News - Forbes\",\"link\":\"https://www.forbes.com/companies/apple/\",\"snippet\":\"Apple, Inc. engages in the design, manufacture, and sale of smartphones, personal computers, tablets, wearables and accessories, and other variety of ...\",\"position\":7}],\"places\":[{\"title\":\"Apple Inc. Warehouse\",\"address\":\"Carlisle, PA\",\"cid\":\"2140803661900048925\"},{\"title\":\"Apple Canada Inc. — Corporate Office\",\"address\":\"Toronto, ON, Canada\",\"cid\":\"14427662212968870348\"},{\"title\":\"Tastee Apple, Inc.\",\"address\":\"Newcomerstown, OH\",\"cid\":\"1257095153508294905\"}],\"peopleAlsoAsk\":[{\"question\":\"What is Apple Inc stand for?\",\"snippet\":\"Founded in 1976 as Apple Computer Company by Steve Jobs, Steve Wozniak and Ronald Wayne, the company was incorporated by Jobs and Wozniak as Apple Computer, Inc. the following year. It was renamed Apple Inc. in 2007 as the company had expanded its focus from computers to consumer electronics.\",\"title\":\"Apple Inc. - Wikipedia\",\"link\":\"https://en.wikipedia.org/wiki/Apple_Inc.\"},{\"question\":\"What is Apple Inc. best known for?\",\"snippet\":\"Apple Inc. (formerly Apple Computer Inc.) is an American computer and consumer electronics company famous for creating the iPhone, iPad and Macintosh computers. Apple is one of the largest companies globally with a market cap of more than $3 trillion.\",\"title\":\"What is Apple? An products and history overview - TechTarget\",\"link\":\"https://www.techtarget.com/whatis/definition/Apple\"}],\"relatedSearches\":[{\"query\":\"Apple iPhone 16...\"},{\"query\":\"apple inc คืออะไร\"},{\"query\":\"Apple Inc full form\"},{\"query\":\"Apple Inc address\"},{\"query\":\"Apple Inc background\"},{\"query\":\"Apple Inc industry\"},{\"query\":\"Apple Store\"},{\"query\":\"Apple USA\"}],\"credits\":1}\n"
     ]
    }
   ],
   "source": [
    "import http.client\n",
    "import json\n",
    "\n",
    "conn = http.client.HTTPSConnection(\"google.serper.dev\")\n",
    "payload = json.dumps({\n",
    "  \"q\": \"apple inc\"\n",
    "})\n",
    "headers = {\n",
    "  'X-API-KEY': '6a76cdda50c7a43b14b69272f96d34ea8e678000',\n",
    "  'Content-Type': 'application/json'\n",
    "}\n",
    "conn.request(\"POST\", \"/search\", payload, headers)\n",
    "res = conn.getresponse()\n",
    "data = res.read()\n",
    "print(data.decode(\"utf-8\"))"
   ]
  }
 ],
 "metadata": {
  "kernelspec": {
   "display_name": "venv",
   "language": "python",
   "name": "python3"
  },
  "language_info": {
   "codemirror_mode": {
    "name": "ipython",
    "version": 3
   },
   "file_extension": ".py",
   "mimetype": "text/x-python",
   "name": "python",
   "nbconvert_exporter": "python",
   "pygments_lexer": "ipython3",
   "version": "3.12.3"
  }
 },
 "nbformat": 4,
 "nbformat_minor": 2
}
